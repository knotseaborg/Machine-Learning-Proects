{
  "nbformat": 4,
  "nbformat_minor": 0,
  "metadata": {
    "colab": {
      "name": "Regression_scripts.ipynb",
      "provenance": [],
      "collapsed_sections": [],
      "include_colab_link": true
    },
    "kernelspec": {
      "name": "python3",
      "display_name": "Python 3"
    }
  },
  "cells": [
    {
      "cell_type": "markdown",
      "metadata": {
        "id": "view-in-github",
        "colab_type": "text"
      },
      "source": [
        "<a href=\"https://colab.research.google.com/github/knotseaborg/Machine-Learning-Projects/blob/master/regression_boilerplate.ipynb\" target=\"_parent\"><img src=\"https://colab.research.google.com/assets/colab-badge.svg\" alt=\"Open In Colab\"/></a>"
      ]
    },
    {
      "cell_type": "markdown",
      "metadata": {
        "id": "YVSkWDKlYm60",
        "colab_type": "text"
      },
      "source": [
        "#Regression Scripts"
      ]
    },
    {
      "cell_type": "code",
      "metadata": {
        "id": "hivQqgdyYImh",
        "colab_type": "code",
        "colab": {}
      },
      "source": [
        "import pandas as pd\n",
        "import numpy as np\n",
        "import matplotlib.pyplot as plt\n",
        "import seaborn as sns"
      ],
      "execution_count": 0,
      "outputs": []
    },
    {
      "cell_type": "code",
      "metadata": {
        "id": "Io1Hn8B0X4FB",
        "colab_type": "code",
        "colab": {}
      },
      "source": [
        "path = \"/content/sample_data/california_housing_train.csv\""
      ],
      "execution_count": 0,
      "outputs": []
    },
    {
      "cell_type": "code",
      "metadata": {
        "id": "q3q2XfSZYOGG",
        "colab_type": "code",
        "outputId": "7086be3b-266b-45b3-c721-ba6514e433b6",
        "colab": {
          "base_uri": "https://localhost:8080/",
          "height": 425
        }
      },
      "source": [
        "data = pd.read_csv(path)\n",
        "print(data.info())\n",
        "print(\"Dimension\",data.shape)\n",
        "print(data.head(5))"
      ],
      "execution_count": 0,
      "outputs": [
        {
          "output_type": "stream",
          "text": [
            "<class 'pandas.core.frame.DataFrame'>\n",
            "RangeIndex: 17000 entries, 0 to 16999\n",
            "Data columns (total 9 columns):\n",
            "longitude             17000 non-null float64\n",
            "latitude              17000 non-null float64\n",
            "housing_median_age    17000 non-null float64\n",
            "total_rooms           17000 non-null float64\n",
            "total_bedrooms        17000 non-null float64\n",
            "population            17000 non-null float64\n",
            "households            17000 non-null float64\n",
            "median_income         17000 non-null float64\n",
            "median_house_value    17000 non-null float64\n",
            "dtypes: float64(9)\n",
            "memory usage: 1.2 MB\n",
            "None\n",
            "Dimension (17000, 9)\n",
            "   longitude  latitude  ...  median_income  median_house_value\n",
            "0    -114.31     34.19  ...         1.4936             66900.0\n",
            "1    -114.47     34.40  ...         1.8200             80100.0\n",
            "2    -114.56     33.69  ...         1.6509             85700.0\n",
            "3    -114.57     33.64  ...         3.1917             73400.0\n",
            "4    -114.57     33.57  ...         1.9250             65500.0\n",
            "\n",
            "[5 rows x 9 columns]\n"
          ],
          "name": "stdout"
        }
      ]
    },
    {
      "cell_type": "markdown",
      "metadata": {
        "id": "pLIITfiRg5uz",
        "colab_type": "text"
      },
      "source": [
        "##Correlation matrix"
      ]
    },
    {
      "cell_type": "code",
      "metadata": {
        "id": "eoq71TEwZWX1",
        "colab_type": "code",
        "colab": {}
      },
      "source": [
        "def plotDataAndCov(dataframe):\n",
        "    data = dataframe.values\n",
        "    ACov = np.corrcoef(data, rowvar=False)\n",
        "\n",
        "    plt.figure(figsize=(7,7))\n",
        "    \n",
        "    # Choosing the colors\n",
        "    cmap = sns.color_palette(\"GnBu\", 10)\n",
        "    plot = sns.heatmap(ACov, cmap=cmap, vmin=0, xticklabels=list(dataframe.columns), yticklabels=list(dataframe.columns))\n",
        "    \n",
        "    plt.show()"
      ],
      "execution_count": 0,
      "outputs": []
    },
    {
      "cell_type": "code",
      "metadata": {
        "id": "j0tkg6DGYbaY",
        "colab_type": "code",
        "outputId": "c10ce8f8-e0af-49bc-f1a6-19e2569f4e58",
        "colab": {
          "base_uri": "https://localhost:8080/",
          "height": 528
        }
      },
      "source": [
        "plotDataAndCov(data)"
      ],
      "execution_count": 0,
      "outputs": [
        {
          "output_type": "display_data",
          "data": {
            "image/png": "[encoded data removed]",
            "text/plain": [
              "<Figure size 504x504 with 2 Axes>"
            ]
          },
          "metadata": {
            "tags": []
          }
        }
      ]
    },
    {
      "cell_type": "markdown",
      "metadata": {
        "id": "rW07VnUQhF9c",
        "colab_type": "text"
      },
      "source": [
        "##Variance Inflation Factor"
      ]
    },
    {
      "cell_type": "code",
      "metadata": {
        "id": "AlQkBhZtZXEb",
        "colab_type": "code",
        "colab": {}
      },
      "source": [
        "X_data = data.iloc[:,:-1]\n",
        "y_data = data.iloc[:,-1]"
      ],
      "execution_count": 0,
      "outputs": []
    },
    {
      "cell_type": "code",
      "metadata": {
        "id": "QxFiUzWEhQMK",
        "colab_type": "code",
        "colab": {}
      },
      "source": [
        "from statsmodels.stats.outliers_influence import variance_inflation_factor\n",
        "\n",
        "def get_vif(dataframe):\n",
        "  for i in range(dataframe.shape[1]):\n",
        "    print(dataframe.columns[i], variance_inflation_factor(dataframe.values, i))"
      ],
      "execution_count": 0,
      "outputs": []
    },
    {
      "cell_type": "code",
      "metadata": {
        "id": "QhF5vIjRhwah",
        "colab_type": "code",
        "outputId": "1eca9170-96ec-4c13-fbf4-fa4b0ca8ecb3",
        "colab": {
          "base_uri": "https://localhost:8080/",
          "height": 153
        }
      },
      "source": [
        "get_vif(X_data)"
      ],
      "execution_count": 0,
      "outputs": [
        {
          "output_type": "stream",
          "text": [
            "longitude 615.2686727416177\n",
            "latitude 549.5301768173555\n",
            "housing_median_age 7.271744137810967\n",
            "total_rooms 30.044819679121968\n",
            "total_bedrooms 96.65600180683796\n",
            "population 16.638519418723856\n",
            "households 96.28443539535213\n",
            "median_income 8.253099168306262\n"
          ],
          "name": "stdout"
        }
      ]
    },
    {
      "cell_type": "markdown",
      "metadata": {
        "id": "LyCWqxn6pzw4",
        "colab_type": "text"
      },
      "source": [
        "##Centering values to zero"
      ]
    },
    {
      "cell_type": "code",
      "metadata": {
        "id": "5uFT539fpysX",
        "colab_type": "code",
        "colab": {}
      },
      "source": [
        "def centralize(series):\n",
        "  return series.apply(lambda x: x-series.mean())\n",
        "\n",
        "#centralized_data = X_train.apply(centralize)"
      ],
      "execution_count": 0,
      "outputs": []
    },
    {
      "cell_type": "markdown",
      "metadata": {
        "id": "oqne1K-eryKg",
        "colab_type": "text"
      },
      "source": [
        "##Stardizing values"
      ]
    },
    {
      "cell_type": "code",
      "metadata": {
        "id": "DHvNjRO0qm8I",
        "colab_type": "code",
        "colab": {}
      },
      "source": [
        "def standardize(series):\n",
        "  return series.apply(lambda x: (x-series.mean())/series.std())\n",
        "\n",
        "#standardized_data = X_train.apply(standardize)"
      ],
      "execution_count": 0,
      "outputs": []
    },
    {
      "cell_type": "markdown",
      "metadata": {
        "id": "pxD6KuxFuSTW",
        "colab_type": "text"
      },
      "source": [
        "##Train Test Split"
      ]
    },
    {
      "cell_type": "code",
      "metadata": {
        "id": "xzsYBCiCuU8u",
        "colab_type": "code",
        "colab": {}
      },
      "source": [
        "from sklearn.model_selection import train_test_split\n",
        "\n",
        "X_train_c, X_test_c, y_train_c, y_test_c = train_test_split(X_data.apply(centralize), y_data, test_size=0.2)\n",
        "X_train_s, X_test_s, y_train_s, y_test_s = train_test_split(X_data.apply(standardize), y_data, test_size=0.2)"
      ],
      "execution_count": 0,
      "outputs": []
    },
    {
      "cell_type": "markdown",
      "metadata": {
        "id": "rt2dxuXJsQa-",
        "colab_type": "text"
      },
      "source": [
        "##Lasso regression"
      ]
    },
    {
      "cell_type": "markdown",
      "metadata": {
        "id": "LHaQbL_dx3as",
        "colab_type": "text"
      },
      "source": [
        "###Centralized data"
      ]
    },
    {
      "cell_type": "code",
      "metadata": {
        "id": "F_DEueKnsJ25",
        "colab_type": "code",
        "colab": {}
      },
      "source": [
        "from sklearn.linear_model import Lasso\n",
        "\n",
        "lm_c = Lasso(alpha=0.1)\n",
        "lm_c.fit(X_train_c.values, y_train_c.values)\n",
        "score_c = lm.score(X_train_c.values, y_train_c.values)\n",
        "_y_c = lm_c.predict(X_test)"
      ],
      "execution_count": 0,
      "outputs": []
    },
    {
      "cell_type": "markdown",
      "metadata": {
        "id": "8wTUs9Qzx0hv",
        "colab_type": "text"
      },
      "source": [
        "###Standardized data"
      ]
    },
    {
      "cell_type": "code",
      "metadata": {
        "id": "GtbCOF-UxUgx",
        "colab_type": "code",
        "colab": {}
      },
      "source": [
        "from sklearn.linear_model import Lasso\n",
        "\n",
        "lm_s = Lasso(alpha=0.1)\n",
        "lm_s.fit(X_train_s.values, y_train_s.values)\n",
        "score_s = lm.score(X_train_s.values, y_train_s.values)\n",
        "_y_s = lm_s.predict(X_test)"
      ],
      "execution_count": 0,
      "outputs": []
    },
    {
      "cell_type": "markdown",
      "metadata": {
        "id": "08xdyH0fw46G",
        "colab_type": "text"
      },
      "source": [
        "##Cross validation"
      ]
    },
    {
      "cell_type": "code",
      "metadata": {
        "id": "sxLvAX0UtM6r",
        "colab_type": "code",
        "colab": {}
      },
      "source": [
        "from sklearn.model_selection import cross_val_score\n",
        "\n",
        "cross_val_score(lm_c, X_test_c.values, y_test_c.values, cv=5)"
      ],
      "execution_count": 0,
      "outputs": []
    },
    {
      "cell_type": "code",
      "metadata": {
        "id": "WLg4L3U_x80c",
        "colab_type": "code",
        "colab": {}
      },
      "source": [
        "from sklearn.model_selection import cross_val_score\n",
        "\n",
        "cross_val_score(lm_s, X_test_s.values, y_test_s.values, cv=5)"
      ],
      "execution_count": 0,
      "outputs": []
    },
    {
      "cell_type": "markdown",
      "metadata": {
        "id": "x_rYeNX9yIEf",
        "colab_type": "text"
      },
      "source": [
        "##Residual plot"
      ]
    },
    {
      "cell_type": "code",
      "metadata": {
        "id": "RbAJ1fTXyGUB",
        "colab_type": "code",
        "colab": {}
      },
      "source": [
        "def plot_residue(y, _y):\n",
        "    plt.figure(figsize=(7,7))\n",
        "    \n",
        "    # Choosing the colors\n",
        "    cmap = sns.color_palette(\"GnBu\", 10)\n",
        "    plot = sns.scatterplot(x=y, y=y-_y, palette=cmap)\n",
        "    \n",
        "    plt.show()"
      ],
      "execution_count": 0,
      "outputs": []
    },
    {
      "cell_type": "code",
      "metadata": {
        "id": "egzCP_Bwypms",
        "colab_type": "code",
        "colab": {}
      },
      "source": [
        "plot_residue(y_test_c, _y_c)"
      ],
      "execution_count": 0,
      "outputs": []
    },
    {
      "cell_type": "code",
      "metadata": {
        "id": "nR1kfROly9I5",
        "colab_type": "code",
        "colab": {}
      },
      "source": [
        "plot_residue(y_test_s, _y_s)"
      ],
      "execution_count": 0,
      "outputs": []
    },
    {
      "cell_type": "markdown",
      "metadata": {
        "id": "CzJNPxVf0HHz",
        "colab_type": "text"
      },
      "source": [
        "##Q-Q plot"
      ]
    },
    {
      "cell_type": "code",
      "metadata": {
        "id": "pzfRwt0k0I0_",
        "colab_type": "code",
        "colab": {}
      },
      "source": [
        "def plot_qq(y, _y):\n",
        "  \n",
        "  y = list(map(lambda x: (x-np.mean(y))/np.std(y), y))\n",
        "  _y = list(map(lambda x: (x-np.mean(_y))/np.std(_y), _y))\n",
        "\n",
        "  percs = np.linspace(0,100,25)\n",
        "  qn_x = np.percentile(y, percs)\n",
        "  qn_y = np.percentile(_y, percs)\n",
        "  \n",
        "  plt.figure()\n",
        "  plt.xlim(np.min((qn_x.min(),qn_y.min())), np.max((qn_x.max(),qn_y.max())))\n",
        "  plt.ylim(np.min((qn_x.min(),qn_y.min())), np.max((qn_x.max(),qn_y.max())))\n",
        "  plt.scatter(x=qn_x, y=qn_y)\n",
        "  \n",
        "  base_line = np.linspace(np.min((qn_x.min(),qn_y.min())), np.max((qn_x.max(),qn_y.max())))\n",
        "  plt.plot(base_line, base_line, color=\"black\", ls=\"--\")\n",
        "  plt.show()"
      ],
      "execution_count": 0,
      "outputs": []
    },
    {
      "cell_type": "code",
      "metadata": {
        "id": "6cWMLfhM1Umo",
        "colab_type": "code",
        "colab": {}
      },
      "source": [
        "plot_qq(y_test_c, _y_c)"
      ],
      "execution_count": 0,
      "outputs": []
    },
    {
      "cell_type": "markdown",
      "metadata": {
        "id": "qHpbXGUM5tD-",
        "colab_type": "text"
      },
      "source": [
        "##Automatic outlier removal"
      ]
    },
    {
      "cell_type": "code",
      "metadata": {
        "id": "_pMAB4tL51Qd",
        "colab_type": "code",
        "colab": {}
      },
      "source": [
        "from scipy import stats\n",
        "\n",
        "def remove_outlier(dataframe):\n",
        "  return dataframe[(np.abs(stats.zscore(df)) < 3).all(axis=1)]"
      ],
      "execution_count": 0,
      "outputs": []
    },
    {
      "cell_type": "markdown",
      "metadata": {
        "id": "piYxT2Li8iP8",
        "colab_type": "text"
      },
      "source": [
        "##Column distribution"
      ]
    },
    {
      "cell_type": "code",
      "metadata": {
        "id": "Rog9Knm88ecH",
        "colab_type": "code",
        "colab": {}
      },
      "source": [
        "def column_distribution(dataframe, column):\n",
        "  plt.figure()\n",
        "  \n",
        "  sns.distplot(dataframe[column])\n",
        "  \n",
        "  plt.show()"
      ],
      "execution_count": 0,
      "outputs": []
    },
    {
      "cell_type": "code",
      "metadata": {
        "id": "5Wa4wRZ09FTB",
        "colab_type": "code",
        "colab": {}
      },
      "source": [
        "column_distribution(X_train_s, 'longitude')"
      ],
      "execution_count": 0,
      "outputs": []
    },
    {
      "cell_type": "markdown",
      "metadata": {
        "id": "vlH-05JY90Zm",
        "colab_type": "text"
      },
      "source": [
        "##Grid search CV"
      ]
    },
    {
      "cell_type": "code",
      "metadata": {
        "id": "6M7C0ZSn9kLa",
        "colab_type": "code",
        "colab": {}
      },
      "source": [
        "from sklearn.model_selection import GridSearchCV\n",
        "\n",
        "parameters = {'alpha':np.linspace(0.001, 0.1, 100)}\n",
        "clf = GridSearchCV(lm_c, parameters, cv=5)\n",
        "clf.fit(X_train_c, y_train_c)"
      ],
      "execution_count": 0,
      "outputs": []
    },
    {
      "cell_type": "code",
      "metadata": {
        "id": "DYOhlYei_X_6",
        "colab_type": "code",
        "colab": {}
      },
      "source": [
        "sorted(clf.cv_results_)"
      ],
      "execution_count": 0,
      "outputs": []
    },
    {
      "cell_type": "code",
      "metadata": {
        "id": "3Bsvi5RO_ajf",
        "colab_type": "code",
        "colab": {}
      },
      "source": [
        "clf.predict(X_test_c)"
      ],
      "execution_count": 0,
      "outputs": []
    },
    {
      "cell_type": "markdown",
      "metadata": {
        "id": "MtJRSwKOAUjw",
        "colab_type": "text"
      },
      "source": [
        "##Accuracy metric (MSE)"
      ]
    },
    {
      "cell_type": "code",
      "metadata": {
        "id": "lF-dBb2TAS8H",
        "colab_type": "code",
        "colab": {}
      },
      "source": [
        "from sklearn.metrics import mean_squared_error\n",
        "\n",
        "y_pred = clf.predict(X_test_c)\n",
        "y_true = y_test_c\n",
        "\n",
        "mean_squared_error(y_true, y_pred)"
      ],
      "execution_count": 0,
      "outputs": []
    },
    {
      "cell_type": "code",
      "metadata": {
        "colab_type": "code",
        "id": "B8BMHP-AFBNs",
        "colab": {}
      },
      "source": [
        "clfx = Lasso()\n",
        "#cols = [\"latitude\",\"housing_median_age\", \"total_rooms\",\"median_income\"]\n",
        "#clf.fit(X_train_c[cols].values, y_train_c.values)\n",
        "#clf.score(X_test_c[cols].values, y_test_c.values)\n",
        "\n",
        "parameters = {'alpha':np.linspace(0.1, 10, 50)}\n",
        "clf = GridSearchCV(clfx, parameters, cv=5)\n",
        "clf.fit(X_train_c[cols], y_train_c)\n",
        "\n",
        "clf.cv_results_['mean_test_score']"
      ],
      "execution_count": 0,
      "outputs": []
    }
  ]
}